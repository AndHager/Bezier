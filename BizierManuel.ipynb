{
 "cells": [
  {
   "cell_type": "code",
   "execution_count": 46,
   "metadata": {},
   "outputs": [
    {
     "name": "stdout",
     "output_type": "stream",
     "text": [
      "[Vector[0.000000000000000, 0], Vector[0.00590000000000000, 99/2500], Vector[0.0136000000000000, 49/625], Vector[0.0231000000000000, 291/2500], Vector[0.0344000000000000, 96/625], Vector[0.0475000000000000, 19/100], Vector[0.0624000000000000, 141/625], Vector[0.0791000000000000, 651/2500], Vector[0.0976000000000000, 184/625], Vector[0.117900000000000, 819/2500], Vector[0.140000000000000, 9/25], Vector[0.163900000000000, 979/2500], Vector[0.189600000000000, 264/625], Vector[0.217100000000000, 1131/2500], Vector[0.246400000000000, 301/625], Vector[0.277500000000000, 51/100], Vector[0.310400000000000, 336/625], Vector[0.345100000000000, 1411/2500], Vector[0.381600000000000, 369/625], Vector[0.419900000000000, 1539/2500], Vector[0.460000000000000, 16/25], Vector[0.501900000000000, 1659/2500], Vector[0.545600000000000, 429/625], Vector[0.591100000000000, 1771/2500], Vector[0.638400000000000, 456/625], Vector[0.687500000000000, 3/4], Vector[0.738400000000000, 481/625], Vector[0.791100000000000, 1971/2500], Vector[0.845600000000000, 504/625], Vector[0.901900000000000, 2059/2500], Vector[0.960000000000000, 21/25], Vector[1.01990000000000, 2139/2500], Vector[1.08160000000000, 544/625], Vector[1.14510000000000, 2211/2500], Vector[1.21040000000000, 561/625], Vector[1.27750000000000, 91/100], Vector[1.34640000000000, 576/625], Vector[1.41710000000000, 2331/2500], Vector[1.48960000000000, 589/625], Vector[1.56390000000000, 2379/2500], Vector[1.64000000000000, 24/25], Vector[1.71790000000000, 2419/2500], Vector[1.79760000000000, 609/625], Vector[1.87910000000000, 2451/2500], Vector[1.96240000000000, 616/625], Vector[2.04750000000000, 99/100], Vector[2.13440000000000, 621/625], Vector[2.22310000000000, 2491/2500], Vector[2.31360000000000, 624/625], Vector[2.40590000000000, 2499/2500], Vector[2.50000000000000, 1], Vector[2.59590000000000, 2499/2500], Vector[2.69360000000000, 624/625], Vector[2.79310000000000, 2491/2500], Vector[2.89440000000000, 621/625], Vector[2.99750000000000, 99/100], Vector[3.10240000000000, 616/625], Vector[3.20910000000000, 2451/2500], Vector[3.31760000000000, 609/625], Vector[3.42790000000000, 2419/2500], Vector[3.54000000000000, 24/25], Vector[3.65390000000000, 2379/2500], Vector[3.76960000000000, 589/625], Vector[3.88710000000000, 2331/2500], Vector[4.00640000000000, 576/625], Vector[4.12750000000000, 91/100], Vector[4.25040000000000, 561/625], Vector[4.37510000000000, 2211/2500], Vector[4.50160000000000, 544/625], Vector[4.62990000000000, 2139/2500], Vector[4.76000000000000, 21/25], Vector[4.89190000000000, 2059/2500], Vector[5.02560000000000, 504/625], Vector[5.16110000000000, 1971/2500], Vector[5.29840000000000, 481/625], Vector[5.43750000000000, 3/4], Vector[5.57840000000000, 456/625], Vector[5.72110000000000, 1771/2500], Vector[5.86560000000000, 429/625], Vector[6.01190000000000, 1659/2500], Vector[6.16000000000000, 16/25], Vector[6.30990000000000, 1539/2500], Vector[6.46160000000000, 369/625], Vector[6.61510000000000, 1411/2500], Vector[6.77040000000000, 336/625], Vector[6.92750000000000, 51/100], Vector[7.08640000000000, 301/625], Vector[7.24710000000000, 1131/2500], Vector[7.40960000000000, 264/625], Vector[7.57390000000000, 979/2500], Vector[7.74000000000000, 9/25], Vector[7.90790000000000, 819/2500], Vector[8.07760000000000, 184/625], Vector[8.24910000000000, 651/2500], Vector[8.42240000000000, 141/625], Vector[8.59750000000000, 19/100], Vector[8.77440000000000, 96/625], Vector[8.95310000000000, 291/2500], Vector[9.13360000000000, 49/625], Vector[9.31590000000000, 99/2500]]\n"
     ]
    },
    {
     "data": {
      "text/plain": [
       "<__main__.Bezier instance at 0x7f75e44cbea8>"
      ]
     },
     "execution_count": 46,
     "metadata": {},
     "output_type": "execute_result"
    }
   ],
   "source": [
    "class Vector:\n",
    "    def __init__(self, x, y):\n",
    "        self.x = x\n",
    "        self.y = y\n",
    "        \n",
    "    def __add__(self, other):\n",
    "        return Vector(self.x + other.x, self.y + other.y)\n",
    "    \n",
    "    def __sub__(self, other):\n",
    "        return Vector(self.x - other.x, self.y - other.y)\n",
    "    \n",
    "    def __mul__(self, other):\n",
    "        if isinstance(other, Vector):\n",
    "            return Vector(self.x * other.x, self.y * other.y) \n",
    "        return Vector(other * self.x, other * self.y)\n",
    "    \n",
    "    def __repr__(self):\n",
    "        return \"Vector[{}, {}]\".format(self.x, self.y)\n",
    "    \n",
    "    def get_tuple(self):\n",
    "        return self.x, self.y\n",
    "    \n",
    "class Bezier:\n",
    "    def __init__(self, A, B, C):\n",
    "        self.points = []\n",
    "        \n",
    "        self.A = A\n",
    "        self.B = B\n",
    "        self.C = C\n",
    "        \n",
    "        self.AB = B - A\n",
    "        self.BC = C - A\n",
    "        \n",
    "        n = 100\n",
    "        \n",
    "        for t in [i/n for i in range(n)]:\n",
    "            self.points.append(self.generate_point_from_t(t))\n",
    "            \n",
    "        print(self.points)\n",
    "            \n",
    "            \n",
    "    def generate_point_from_t(self, t):\n",
    "        AD = self.AB * t\n",
    "        D = AD + self.A\n",
    "        \n",
    "        BE = self.BC * t\n",
    "        E = BE + self.B\n",
    "        \n",
    "        DE = E - D\n",
    "        F = DE * t\n",
    "        return F\n",
    "            \n",
    "\n",
    "Bezier(Vector(0.5,0), Vector(1,4), Vector(10,0))"
   ]
  }
 ],
 "metadata": {
  "kernelspec": {
   "display_name": "SageMath 8.1",
   "language": "",
   "name": "sagemath"
  },
  "language_info": {
   "codemirror_mode": {
    "name": "ipython",
    "version": 2
   },
   "file_extension": ".py",
   "mimetype": "text/x-python",
   "name": "python",
   "nbconvert_exporter": "python",
   "pygments_lexer": "ipython2",
   "version": "2.7.15rc1"
  }
 },
 "nbformat": 4,
 "nbformat_minor": 2
}
